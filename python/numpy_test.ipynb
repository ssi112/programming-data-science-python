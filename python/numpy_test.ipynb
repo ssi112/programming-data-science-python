{
 "cells": [
  {
   "cell_type": "code",
   "execution_count": 1,
   "metadata": {},
   "outputs": [],
   "source": [
    "import numpy as np\n",
    "import time"
   ]
  },
  {
   "cell_type": "code",
   "execution_count": 3,
   "metadata": {},
   "outputs": [],
   "source": [
    "x = np.random.random(100000000)"
   ]
  },
  {
   "cell_type": "code",
   "execution_count": 7,
   "metadata": {},
   "outputs": [
    {
     "name": "stdout",
     "output_type": "stream",
     "text": [
      "12.475827693939209\n"
     ]
    }
   ],
   "source": [
    "# plain python\n",
    "start = time.time()\n",
    "sum(x) / len(x)\n",
    "print(time.time() - start)"
   ]
  },
  {
   "cell_type": "code",
   "execution_count": 8,
   "metadata": {},
   "outputs": [
    {
     "name": "stdout",
     "output_type": "stream",
     "text": [
      "0.043814659118652344\n"
     ]
    }
   ],
   "source": [
    "# numpy\n",
    "start = time.time()\n",
    "np.mean(x)\n",
    "print(time.time() - start)"
   ]
  },
  {
   "cell_type": "code",
   "execution_count": 10,
   "metadata": {},
   "outputs": [
    {
     "name": "stdout",
     "output_type": "stream",
     "text": [
      "x =  [1 2 3 4 5]\n",
      "\n",
      "x has dimensions: (5,)\n",
      "x is an object of type: <class 'numpy.ndarray'>\n",
      "The elements in x are of type: int64\n"
     ]
    }
   ],
   "source": [
    "x = np.array([1,2,3,4,5])\n",
    "print(\"x = \", x)\n",
    "print()\n",
    "\n",
    "# info about x\n",
    "print(\"x has dimensions:\", x.shape)\n",
    "print(\"x is an object of type:\", type(x))\n",
    "print(\"The elements in x are of type:\", x.dtype)"
   ]
  },
  {
   "cell_type": "code",
   "execution_count": 13,
   "metadata": {},
   "outputs": [
    {
     "name": "stdout",
     "output_type": "stream",
     "text": [
      "w =  ['Hello' 'hapless' 'programmer']\n",
      "\n",
      "w has dimensions: (3,)\n",
      "w is an object of type: <class 'numpy.ndarray'>\n",
      "The elements in w are of type: <U10\n"
     ]
    }
   ],
   "source": [
    "w = np.array([\"Hello\", \"hapless\", \"programmer\"])\n",
    "print(\"w = \", w)\n",
    "print()\n",
    "\n",
    "# info about w\n",
    "print(\"w has dimensions:\", w.shape)\n",
    "print(\"w is an object of type:\", type(w))\n",
    "print(\"The elements in w are of type:\", w.dtype)"
   ]
  },
  {
   "cell_type": "code",
   "execution_count": 15,
   "metadata": {},
   "outputs": [
    {
     "name": "stdout",
     "output_type": "stream",
     "text": [
      "\n",
      "Y = \n",
      " [[ 1  2  3]\n",
      " [ 4  5  6]\n",
      " [ 7  8  9]\n",
      " [10 11 12]]\n",
      "\n",
      "Y has dimensions (rows & cols): (4, 3)\n",
      "Y has a total of 12 elements\n",
      "Y is an object of type: <class 'numpy.ndarray'>\n",
      "The elements in Y are of type: int64\n"
     ]
    }
   ],
   "source": [
    "# create a rank 2 ndarray that only contains integers\n",
    "Y = np.array([[1,2,3],[4,5,6],[7,8,9], [10,11,12]])\n",
    "\n",
    "# We print Y\n",
    "print()\n",
    "print('Y = \\n', Y)\n",
    "print()\n",
    "\n",
    "# We print information about Y\n",
    "print('Y has dimensions (rows & cols):', Y.shape) # rows & columns\n",
    "print('Y has a total of', Y.size, 'elements')\n",
    "print('Y is an object of type:', type(Y))\n",
    "print('The elements in Y are of type:', Y.dtype)"
   ]
  },
  {
   "cell_type": "code",
   "execution_count": 24,
   "metadata": {},
   "outputs": [],
   "source": [
    "# We create a rank 1 ndarray\n",
    "x = np.array([1, 2, 3, 4, 5])\n",
    "\n",
    "# We save x into the current directory as \n",
    "np.save('my_array', x)"
   ]
  },
  {
   "cell_type": "code",
   "execution_count": 25,
   "metadata": {
    "scrolled": true
   },
   "outputs": [
    {
     "name": "stdout",
     "output_type": "stream",
     "text": [
      "\n",
      "g =  [1 2 3 4 5]\n",
      "\n",
      "g is an object of type: <class 'numpy.ndarray'>\n",
      "The elements in g are of type: int64\n"
     ]
    }
   ],
   "source": [
    "g = np.load('my_array.npy')\n",
    "\n",
    "print()\n",
    "print('g = ', g)\n",
    "print()\n",
    "\n",
    "print('g is an object of type:', type(g))\n",
    "print('The elements in g are of type:', g.dtype)"
   ]
  },
  {
   "cell_type": "code",
   "execution_count": 28,
   "metadata": {},
   "outputs": [
    {
     "name": "stdout",
     "output_type": "stream",
     "text": [
      "Letter Array:  ['a' 'b' 'c' 'd' 'e' 'f' 'g' 'h' 'i' 'j']\n",
      "The elements in letter_array are of type: <U1\n",
      "letter_array has dimensions (rows & cols): (10,)\n",
      "letter_array has a total of 10 elements\n"
     ]
    }
   ],
   "source": [
    "# create numpy array of letters a-j\n",
    "\n",
    "# ord - given a string representing a Unicode character, returns an integer \n",
    "# representing the Unicode of that character. \n",
    "# the inverse of chr.\n",
    "letter_array = [chr(x) for x in range(ord('a'), ord('j') + 1)] \n",
    "letter_array = np.array(letter_array)\n",
    "\n",
    "print(\"Letter Array: \", letter_array)\n",
    "\n",
    "# get dtype of array\n",
    "print('The elements in letter_array are of type:', letter_array.dtype)\n",
    "\n",
    "# get shape of array\n",
    "print('letter_array has dimensions (rows & cols):', letter_array.shape) # rows & columns\n",
    "\n",
    "# get size of array\n",
    "print('letter_array has a total of', letter_array.size, 'elements')\n",
    "\n"
   ]
  },
  {
   "cell_type": "code",
   "execution_count": 35,
   "metadata": {},
   "outputs": [
    {
     "name": "stdout",
     "output_type": "stream",
     "text": [
      "\n",
      "z = np.zeros((3,4))\n",
      "[[0. 0. 0. 0.]\n",
      " [0. 0. 0. 0.]\n",
      " [0. 0. 0. 0.]]\n",
      "\n",
      "z = np.ones((2,3))\n",
      "[[1. 1. 1.]\n",
      " [1. 1. 1.]]\n",
      "\n",
      "z = np.full((2,3), 7)\n",
      "[[7 7 7]\n",
      " [7 7 7]]\n",
      "\n",
      "z = np.eye(4)\n",
      "[[1. 0. 0. 0.]\n",
      " [0. 1. 0. 0.]\n",
      " [0. 0. 1. 0.]\n",
      " [0. 0. 0. 1.]]\n",
      "\n",
      "z = np.diag([10, 20, 30, 50])\n",
      "[[10  0  0  0]\n",
      " [ 0 20  0  0]\n",
      " [ 0  0 30  0]\n",
      " [ 0  0  0 50]]\n"
     ]
    }
   ],
   "source": [
    "# Built-in functions to create ndArrays with prefilled values\n",
    "\n",
    "# zeros - pass in tuple indicating rows, cols\n",
    "z = np.zeros((3,4))\n",
    "print('\\nz = np.zeros((3,4))')\n",
    "print(z)\n",
    "\n",
    "# ones\n",
    "z = np.ones((2,3))\n",
    "print('\\nz = np.ones((2,3))')\n",
    "print(z)\n",
    "\n",
    "# full - shape, plus constant value\n",
    "z = np.full((2,3), 7)\n",
    "print('\\nz = np.full((2,3), 7)')\n",
    "print(z)\n",
    "\n",
    "# eye - identity matrix (linear algebra), square matrix with 1s on the diagonal\n",
    "z = np.eye(4) # 4 x 4\n",
    "print('\\nz = np.eye(4)')\n",
    "print(z)\n",
    "\n",
    "# diag - square matrix with values on the diagonal\n",
    "z = np.diag([10, 20, 30, 50])\n",
    "\n",
    "print('\\nz = np.diag([10, 20, 30, 50])')\n",
    "print(z)"
   ]
  },
  {
   "cell_type": "code",
   "execution_count": 39,
   "metadata": {},
   "outputs": [
    {
     "name": "stdout",
     "output_type": "stream",
     "text": [
      "[0 1 2 3 4 5 6 7 8 9]\n",
      "[4 5 6 7 8 9]\n",
      "[ 1  4  7 10 13]\n",
      "[ 0.          2.77777778  5.55555556  8.33333333 11.11111111 13.88888889\n",
      " 16.66666667 19.44444444 22.22222222 25.        ]\n"
     ]
    }
   ],
   "source": [
    "# More built-in functions\n",
    "\n",
    "# We create a rank 1 ndarray that has sequential integers from 0 to 9\n",
    "x = np.arange(10)\n",
    "print(x)\n",
    "\n",
    "# We create a rank 1 ndarray that has sequential integers from 4 to 9. \n",
    "x = np.arange(4,10) # start, stop\n",
    "print(x)\n",
    "\n",
    "# We create a rank 1 ndarray that has evenly spaced integers from 1 to 13 in steps of 3.\n",
    "x = np.arange(1,14,3) # start, stop, step\n",
    "print(x)\n",
    "\n",
    "# use linspace when non-linear steps are required\n",
    "# We create a rank 1 ndarray that has 10 integers evenly spaced between 0 and 25.\n",
    "x = np.linspace(0,25,10) # start, stop, N - evenly spaced numbers\n",
    "print(x)\n"
   ]
  },
  {
   "cell_type": "code",
   "execution_count": 45,
   "metadata": {},
   "outputs": [
    {
     "name": "stdout",
     "output_type": "stream",
     "text": [
      "Original x =  [ 0  1  2  3  4  5  6  7  8  9 10 11 12 13 14 15 16 17 18 19]\n",
      "\n",
      "Reshaped x = \n",
      " [[ 0  1  2  3  4]\n",
      " [ 5  6  7  8  9]\n",
      " [10 11 12 13 14]\n",
      " [15 16 17 18 19]]\n",
      "\n",
      "Y = \n",
      " [[0 1 2]\n",
      " [3 4 5]\n",
      " [6 7 8]]\n",
      "\n",
      "\n",
      "X = \n",
      " [[ 0.  5.]\n",
      " [10. 15.]\n",
      " [20. 25.]\n",
      " [30. 35.]\n",
      " [40. 45.]]\n",
      "\n",
      "\n",
      "X = \n",
      " [[10 11]\n",
      " [ 9  9]\n",
      " [ 6  4]]\n",
      "\n"
     ]
    }
   ],
   "source": [
    "# reshaping arrays\n",
    "# np.reshape(ndarray, new_shape) function converts the given ndarray into the \n",
    "# specified new_shape\n",
    "\n",
    "# important to note that the new_shape should be compatible with the number of \n",
    "# elements in the given ndarray\n",
    "\n",
    "# We create a rank 1 ndarray with sequential integers from 0 to 19\n",
    "x = np.arange(20)\n",
    "print('Original x = ', x)\n",
    "\n",
    "# We reshape x into a 4 x 5 ndarray \n",
    "x = np.reshape(x, (4,5))\n",
    "\n",
    "# We print the reshaped x\n",
    "print()\n",
    "print('Reshaped x = \\n', x)\n",
    "\n",
    "# can chain together functions\n",
    "Y = np.arange(9).reshape(3,3)\n",
    "print()\n",
    "print('Y = \\n', Y)\n",
    "print()\n",
    "\n",
    "# We create a rank 1 ndarray with 10 integers evenly spaced between 0 and 50,\n",
    "# with 50 excluded. We then reshape it to a 5 x 2 ndarray\n",
    "X = np.linspace(0,50,10, endpoint=False).reshape(5,2)\n",
    "\n",
    "# We print X\n",
    "print()\n",
    "print('X = \\n', X)\n",
    "print()\n",
    "\n",
    "# We create a 3 x 2 ndarray with random integers in the half-open interval [4, 15).\n",
    "X = np.random.randint(4,15,size=(3,2))\n",
    "\n",
    "# We print X\n",
    "print()\n",
    "print('X = \\n', X)\n",
    "print()"
   ]
  },
  {
   "cell_type": "code",
   "execution_count": 51,
   "metadata": {},
   "outputs": [
    {
     "name": "stdout",
     "output_type": "stream",
     "text": [
      "[[ 2.33449685e-01 -2.29480170e-02  1.16995380e-02 -6.76603997e-02\n",
      "  -1.81884558e-01  1.00166344e-01 -6.52863545e-02  6.78092936e-02\n",
      "  -5.46832413e-03 -1.90055500e-02]\n",
      " [ 2.76740661e-01 -6.84213645e-02  6.11453821e-03  3.62437972e-02\n",
      "   3.56777061e-02  2.10376948e-02  8.30306424e-02  1.78423984e-01\n",
      "   1.77954624e-01  4.24494209e-02]\n",
      " [ 1.92272242e-01  5.83009958e-02  1.68018272e-01 -1.08274836e-02\n",
      "   1.25778164e-01  4.99525059e-02  8.73667860e-02 -1.90419446e-02\n",
      "  -1.91885743e-02  4.87048361e-02]\n",
      " [-3.06544931e-02  1.36821598e-01  1.17970443e-04  1.38189963e-01\n",
      "  -1.51228647e-01  1.22953911e-03  7.64619668e-02  1.40940700e-01\n",
      "   8.56425387e-02  1.50896403e-01]\n",
      " [ 8.60826382e-02  5.32336494e-02  8.03463039e-02  7.81810746e-02\n",
      "   1.91293966e-02 -9.44815699e-02 -1.82474487e-01 -4.05922885e-02\n",
      "   1.04120633e-01  4.00002774e-02]\n",
      " [-2.58049230e-02 -1.36391747e-01 -7.91165991e-02 -1.26058966e-01\n",
      "  -4.57896152e-02  3.65956177e-02 -1.85789503e-02 -1.36871428e-01\n",
      "  -1.07908761e-01  2.08183128e-02]\n",
      " [-4.91876799e-02  1.41528189e-01 -7.06301925e-02 -6.83404694e-02\n",
      "  -6.23776193e-03 -1.00945542e-01  1.92087177e-02  2.90222488e-02\n",
      "  -4.49209739e-02 -8.98314729e-02]\n",
      " [ 3.16503272e-02 -4.24801672e-02 -4.76655407e-02 -1.79038548e-02\n",
      "  -9.40157587e-02  8.73190958e-02  1.57894224e-01  5.67283667e-02\n",
      "  -6.80968546e-02  9.81293418e-02]\n",
      " [-1.28441119e-02  8.69503662e-02 -1.33906074e-01 -8.29006123e-02\n",
      "   4.34292860e-02  4.32074617e-02  6.41620306e-02 -4.23526854e-02\n",
      "  -1.25030274e-01 -5.68590953e-02]\n",
      " [-7.73021273e-02  1.05944012e-03 -1.47009416e-03 -1.01309258e-01\n",
      "   7.44645089e-03 -2.25641589e-02  4.83329263e-03 -1.95155314e-03\n",
      "  -1.35172643e-01  2.11953955e-02]]\n",
      "X has dimensions: (10, 10)\n",
      "X is an object of type: <class 'numpy.ndarray'>\n",
      "The elements in X are of type: float64\n",
      "The elements in X have a mean of: 0.009941605467125381\n",
      "The maximum value in X is: 0.2767406609162772\n",
      "The minimum value in X is: -0.1824744866391401\n",
      "X has 47 negative numbers\n",
      "X has 53 positive numbers\n"
     ]
    }
   ],
   "source": [
    "# create ndarrays with random numbers that satisfy certain statistical properties\n",
    "\n",
    "\"\"\"\n",
    "NumPy allows you create random ndarrays with numbers drawn from various probability \n",
    "distributions. The function np.random.normal(mean, standard deviation, size=shape), \n",
    "for example, creates an ndarray with the given shape that contains random numbers \n",
    "picked from a normal (Gaussian) distribution with the given mean and standard deviation. \n",
    "\n",
    "Let's create a 1,000 x 1,000 ndarray of random floating point numbers drawn from a \n",
    "normal distribution with a mean (average) of zero and a standard deviation of 0.1\n",
    "\"\"\"\n",
    "\n",
    "X = np.random.normal(0, 0.1, size=(10, 10))\n",
    "print(X)\n",
    "\n",
    "# print information about X\n",
    "print('X has dimensions:', X.shape)\n",
    "print('X is an object of type:', type(X))\n",
    "print('The elements in X are of type:', X.dtype)\n",
    "print('The elements in X have a mean of:', X.mean())\n",
    "print('The maximum value in X is:', X.max())\n",
    "print('The minimum value in X is:', X.min())\n",
    "print('X has', (X < 0).sum(), 'negative numbers')\n",
    "print('X has', (X > 0).sum(), 'positive numbers')\n",
    "\n"
   ]
  },
  {
   "cell_type": "code",
   "execution_count": 53,
   "metadata": {},
   "outputs": [
    {
     "name": "stdout",
     "output_type": "stream",
     "text": [
      "\n",
      "X = \n",
      " [[ 2  4  6  8]\n",
      " [10 12 14 16]\n",
      " [18 20 22 24]\n",
      " [26 28 30 32]]\n",
      "\n",
      "\n",
      "Y = \n",
      " [[ 2.  4.  6.  8.]\n",
      " [10. 12. 14. 16.]\n",
      " [18. 20. 22. 24.]\n",
      " [26. 28. 30. 32.]]\n",
      "\n"
     ]
    }
   ],
   "source": [
    "# Using the Built-in functions you learned about in the\n",
    "# previous lesson, create a 4 x 4 ndarray that only\n",
    "# contains consecutive even numbers from 2 to 32 (inclusive)\n",
    "\n",
    "X = np.arange(2, 34, 2).reshape(4, 4)   # reshape to create a rank 2 array\n",
    "print()\n",
    "print('X = \\n', X)\n",
    "print()\n",
    "\n",
    "Y = np.linspace(2,32,16).reshape(4,4)\n",
    "print()\n",
    "print('Y = \\n', Y)\n",
    "print()"
   ]
  },
  {
   "cell_type": "code",
   "execution_count": 10,
   "metadata": {},
   "outputs": [
    {
     "name": "stdout",
     "output_type": "stream",
     "text": [
      "\n",
      "x =  [1 2 3 4 5]\n",
      "\n",
      "This is First Element in x: 1\n",
      "This is Second Element in x: 2\n",
      "This is Fifth (Last) Element in x: 5\n",
      "\n",
      "This is First Element in x: 1\n",
      "This is Second Element in x: 2\n",
      "This is Fifth (Last) Element in x: 5\n",
      "\n",
      "Access a range in the ndarray: [1 2]\n",
      "* note the above yielded another ndarray *\n"
     ]
    }
   ],
   "source": [
    "# We create a rank 1 ndarray that contains integers from 1 to 5\n",
    "x = np.array([1, 2, 3, 4, 5])\n",
    "\n",
    "# We print x\n",
    "print()\n",
    "print('x = ', x)\n",
    "print()\n",
    "\n",
    "# Let's access some elements with positive indices\n",
    "print('This is First Element in x:', x[0]) \n",
    "print('This is Second Element in x:', x[1])\n",
    "print('This is Fifth (Last) Element in x:', x[4])\n",
    "print()\n",
    "\n",
    "# Let's access the same elements with negative indices\n",
    "print('This is First Element in x:', x[-5])\n",
    "print('This is Second Element in x:', x[-4])\n",
    "print('This is Fifth (Last) Element in x:', x[-1])\n",
    "\n",
    "print('\\nAccess a range in the ndarray:', x[0:2])\n",
    "print('* note the above yielded another ndarray *')"
   ]
  },
  {
   "cell_type": "code",
   "execution_count": 12,
   "metadata": {},
   "outputs": [
    {
     "name": "stdout",
     "output_type": "stream",
     "text": [
      "\n",
      "[[1 2 3]\n",
      " [4 5 6]\n",
      " [7 8 9]]\n",
      "\n",
      "[[ 1 15  3]\n",
      " [ 4  5  6]\n",
      " [ 7  8  9]]\n"
     ]
    }
   ],
   "source": [
    "# We create a 3 x 3 rank 2 ndarray that contains integers from 1 to 9\n",
    "X = np.array([[1,2,3],[4,5,6],[7,8,9]])\n",
    "\n",
    "print()\n",
    "print(X)\n",
    "\n",
    "# modify in place\n",
    "X[0,1] = 15\n",
    "\n",
    "print()\n",
    "print(X)"
   ]
  },
  {
   "cell_type": "code",
   "execution_count": 13,
   "metadata": {},
   "outputs": [
    {
     "name": "stdout",
     "output_type": "stream",
     "text": [
      "\n",
      "Original x =  [1 2 3 4 5]\n",
      "\n",
      "Modified x =  [2 3 4]\n",
      "\n",
      "Original Y = \n",
      " [[1 2 3]\n",
      " [4 5 6]\n",
      " [7 8 9]]\n",
      "\n",
      "w = \n",
      " [[4 5 6]\n",
      " [7 8 9]]\n"
     ]
    }
   ],
   "source": [
    "\"\"\"\n",
    "DELETE\n",
    "np.delete(ndarray, elements, axis) function. \n",
    "This function deletes the given list of elements from the given ndarray along the specified axis. \n",
    "For rank 1 ndarrays the axis keyword is not required. \n",
    "For rank 2 ndarrays, axis = 0 is used to select rows, and axis = 1 is used to select columns\n",
    "\"\"\"\n",
    "# We create a rank 1 ndarray \n",
    "x = np.array([1, 2, 3, 4, 5])\n",
    "\n",
    "# We create a rank 2 ndarray\n",
    "Y = np.array([[1,2,3],[4,5,6],[7,8,9]])\n",
    "\n",
    "# We print x\n",
    "print()\n",
    "print('Original x = ', x)\n",
    "\n",
    "# We delete the first and last element of x\n",
    "x = np.delete(x, [0,4])\n",
    "\n",
    "# We print x with the first and last element deleted\n",
    "print()\n",
    "print('Modified x = ', x)\n",
    "\n",
    "# We print Y\n",
    "print()\n",
    "print('Original Y = \\n', Y)\n",
    "\n",
    "# We delete the first row of y\n",
    "w = np.delete(Y, 0, axis=0)\n",
    "\n",
    "# We delete the first and last column of y\n",
    "v = np.delete(Y, [0,2], axis=1)\n",
    "\n",
    "# We print w\n",
    "print()\n",
    "print('w = \\n', w)\n"
   ]
  },
  {
   "cell_type": "code",
   "execution_count": 14,
   "metadata": {},
   "outputs": [
    {
     "name": "stdout",
     "output_type": "stream",
     "text": [
      "\n",
      "Original x =  [1 2 3 4 5]\n",
      "\n",
      "x =  [1 2 3 4 5 6]\n",
      "\n",
      "x =  [1 2 3 4 5 6 7 8]\n",
      "\n",
      "Original Y = \n",
      " [[1 2 3]\n",
      " [4 5 6]]\n",
      "\n",
      "v = \n",
      " [[1 2 3]\n",
      " [4 5 6]\n",
      " [7 8 9]]\n",
      "\n",
      "q = \n",
      " [[ 1  2  3  9]\n",
      " [ 4  5  6 10]]\n"
     ]
    }
   ],
   "source": [
    "\"\"\"\n",
    "APPEND\n",
    "We can append values to ndarrays using the np.append(ndarray, elements, axis) function. \n",
    "This function appends the given list of elements to ndarray along the specified axis\n",
    "\n",
    "Notice that when appending rows or columns to rank 2 ndarrays the rows or columns must \n",
    "have the correct shape, so as to match the shape of the rank 2 ndarray\n",
    "\"\"\"\n",
    "# We create a rank 1 ndarray \n",
    "x = np.array([1, 2, 3, 4, 5])\n",
    "\n",
    "# We create a rank 2 ndarray \n",
    "Y = np.array([[1,2,3],[4,5,6]])\n",
    "\n",
    "# We print x\n",
    "print()\n",
    "print('Original x = ', x)\n",
    "\n",
    "# We append the integer 6 to x\n",
    "x = np.append(x, 6)\n",
    "\n",
    "# We print x\n",
    "print()\n",
    "print('x = ', x)\n",
    "\n",
    "# We append the integer 7 and 8 to x\n",
    "x = np.append(x, [7,8])\n",
    "\n",
    "# We print x\n",
    "print()\n",
    "print('x = ', x)\n",
    "\n",
    "# We print Y\n",
    "print()\n",
    "print('Original Y = \\n', Y)\n",
    "\n",
    "# We append a new row containing 7,8,9 to y\n",
    "v = np.append(Y, [[7,8,9]], axis=0)\n",
    "\n",
    "# We append a new column containing 9 and 10 to y\n",
    "q = np.append(Y,[[9],[10]], axis=1)\n",
    "\n",
    "# We print v\n",
    "print()\n",
    "print('v = \\n', v)\n",
    "\n",
    "# We print q\n",
    "print()\n",
    "print('q = \\n', q)\n"
   ]
  },
  {
   "cell_type": "code",
   "execution_count": 15,
   "metadata": {},
   "outputs": [
    {
     "name": "stdout",
     "output_type": "stream",
     "text": [
      "\n",
      "Original x =  [1 2 5 6 7]\n",
      "\n",
      "x =  [1 2 3 4 5 6 7]\n",
      "\n",
      "Original Y = \n",
      " [[1 2 3]\n",
      " [7 8 9]]\n",
      "\n",
      "w = \n",
      " [[1 2 3]\n",
      " [4 5 6]\n",
      " [7 8 9]]\n",
      "\n",
      "v = \n",
      " [[1 5 2 3]\n",
      " [7 5 8 9]]\n"
     ]
    }
   ],
   "source": [
    "\"\"\"\n",
    "INSERT\n",
    "Insert values to ndarrays using the np.insert(ndarray, index, elements, axis) function. \n",
    "This function inserts the given list of elements to ndarray right before the given index \n",
    "along the specified axis.\n",
    "\"\"\"\n",
    "# We create a rank 1 ndarray \n",
    "x = np.array([1, 2, 5, 6, 7])\n",
    "\n",
    "# We create a rank 2 ndarray \n",
    "Y = np.array([[1,2,3],[7,8,9]])\n",
    "\n",
    "# We print x\n",
    "print()\n",
    "print('Original x = ', x)\n",
    "\n",
    "# We insert the integer 3 and 4 between 2 and 5 in x. \n",
    "x = np.insert(x,2,[3,4])\n",
    "\n",
    "# We print x with the inserted elements\n",
    "print()\n",
    "print('x = ', x)\n",
    "\n",
    "# We print Y\n",
    "print()\n",
    "print('Original Y = \\n', Y)\n",
    "\n",
    "# We insert a row between the first and last row of y\n",
    "w = np.insert(Y,1,[4,5,6],axis=0)\n",
    "\n",
    "# We insert a column full of 5s between the first and second column of y\n",
    "v = np.insert(Y,1,5, axis=1)\n",
    "\n",
    "# We print w\n",
    "print()\n",
    "print('w = \\n', w)\n",
    "\n",
    "# We print v\n",
    "print()\n",
    "print('v = \\n', v)"
   ]
  },
  {
   "cell_type": "code",
   "execution_count": 2,
   "metadata": {},
   "outputs": [
    {
     "name": "stdout",
     "output_type": "stream",
     "text": [
      "\n",
      "x =  [1 2]\n",
      "\n",
      "Y = \n",
      " [[3 4]\n",
      " [5 6]]\n",
      "\n",
      "z = \n",
      " [[1 2]\n",
      " [3 4]\n",
      " [5 6]]\n",
      "\n",
      "w = \n",
      " [[3 4 1]\n",
      " [5 6 2]]\n"
     ]
    }
   ],
   "source": [
    "\"\"\"\n",
    "STACK\n",
    "Stack on top or each other (np.vstack) or side-by-side (np.hstack)\n",
    "\n",
    "* the shape of the ndarrays must match *\n",
    "\"\"\"\n",
    "# We create a rank 1 ndarray \n",
    "x = np.array([1,2])\n",
    "\n",
    "# We create a rank 2 ndarray \n",
    "Y = np.array([[3,4],[5,6]])\n",
    "\n",
    "# We print x\n",
    "print()\n",
    "print('x = ', x)\n",
    "\n",
    "# We print Y\n",
    "print()\n",
    "print('Y = \\n', Y)\n",
    "\n",
    "# We stack x on top of Y\n",
    "z = np.vstack((x, Y))\n",
    "\n",
    "# We stack x on the right of Y. We need to reshape x in order to stack it on the right of Y. \n",
    "w = np.hstack((Y, x.reshape(2,1)))\n",
    "\n",
    "# We print z\n",
    "print()\n",
    "print('z = \\n', z)\n",
    "\n",
    "# We print w\n",
    "print()\n",
    "print('w = \\n', w)"
   ]
  },
  {
   "cell_type": "markdown",
   "metadata": {},
   "source": [
    "### Slicing ndArrays\n",
    "\n",
    "**1) ndarray[start:end]**  \n",
    "**2) ndarray[start:]**  \n",
    "**3) ndarray[:end]**  \n",
    "\n",
    "\n",
    "The first method is used to select elements between the start and end indices. \n",
    "\n",
    "The second method is used to select all elements from the start index till the last index. \n",
    "\n",
    "The third method is used to select all elements from the first index till the end index. \n",
    "\n",
    "_Note that in methods one and three, the end index is excluded._ \n",
    "\n",
    "We should also note that since ndarrays can be multidimensional, when doing slicing you usually have to specify a slice for each dimension of the array."
   ]
  },
  {
   "cell_type": "code",
   "execution_count": 3,
   "metadata": {},
   "outputs": [
    {
     "name": "stdout",
     "output_type": "stream",
     "text": [
      "\n",
      "X = \n",
      " [[ 0  1  2  3  4]\n",
      " [ 5  6  7  8  9]\n",
      " [10 11 12 13 14]\n",
      " [15 16 17 18 19]]\n",
      "\n",
      "Z = \n",
      " [[ 7  8  9]\n",
      " [12 13 14]\n",
      " [17 18 19]]\n",
      "\n",
      "W = \n",
      " [[ 7  8  9]\n",
      " [12 13 14]\n",
      " [17 18 19]]\n",
      "\n",
      "Y = \n",
      " [[ 2  3  4]\n",
      " [ 7  8  9]\n",
      " [12 13 14]]\n",
      "\n",
      "v =  [10 11 12 13 14]\n",
      "\n",
      "q =  [ 2  7 12 17]\n",
      "\n",
      "R = \n",
      " [[ 2]\n",
      " [ 7]\n",
      " [12]\n",
      " [17]]\n"
     ]
    }
   ],
   "source": [
    "# We create a 4 x 5 ndarray that contains integers from 0 to 19\n",
    "X = np.arange(20).reshape(4, 5)\n",
    "\n",
    "# We print X\n",
    "print()\n",
    "print('X = \\n', X)\n",
    "print()\n",
    "\n",
    "# We select all the elements that are in the 2nd through 4th rows and in the 3rd to 5th columns\n",
    "Z = X[1:4,2:5]\n",
    "\n",
    "# We print Z\n",
    "print('Z = \\n', Z)\n",
    "\n",
    "# We can select the same elements as above using method 2\n",
    "W = X[1:,2:5]\n",
    "\n",
    "# We print W\n",
    "print()\n",
    "print('W = \\n', W)\n",
    "\n",
    "# We select all the elements that are in the 1st through 3rd rows and in the 3rd to 4th columns\n",
    "Y = X[:3,2:5]\n",
    "\n",
    "# We print Y\n",
    "print()\n",
    "print('Y = \\n', Y)\n",
    "\n",
    "# We select all the elements in the 3rd row\n",
    "v = X[2,:]\n",
    "\n",
    "# We print v\n",
    "print()\n",
    "print('v = ', v)\n",
    "\n",
    "# We select all the elements in the 3rd column\n",
    "q = X[:,2]\n",
    "\n",
    "# We print q\n",
    "print()\n",
    "print('q = ', q)\n",
    "\n",
    "# We select all the elements in the 3rd column but return a rank 2 ndarray\n",
    "R = X[:,2:3]\n",
    "\n",
    "# We print R\n",
    "print()\n",
    "print('R = \\n', R)"
   ]
  },
  {
   "cell_type": "markdown",
   "metadata": {},
   "source": [
    "### Slicing and Copying\n",
    "It is important to note that when we _perform slices_ on ndarrays and save them into new variables, as we did above, the _data is not copied into the new variable_. This is one feature that often causes confusion for beginners. Therefore, we will look at this in a bit more detail.\n",
    "\n",
    "In the above examples, when we make assignments, such as:\n",
    "\n",
    "Z = X[1:4,2:5]\n",
    "\n",
    "the slice of the original array X is not copied in the variable Z. Rather, **X and Z are now just two different names for the same ndarray**. \n",
    "\n",
    "We say that _slicing only creates a different view of the original array_. This means that if you make changes in Z you will be in effect changing the elements in X as well. \n",
    "\n",
    "**Copy**\n",
    "\n",
    "If you want to create a new ndarray that contains a copy of the values in the slice we need to use the **np.copy()** function. The np.copy(ndarray) function creates a copy of the given ndarray. This function can also be used as a method, in the same way as we did before with the reshape function.\n",
    "\n",
    "create a copy of the slice using the np.copy() function\n",
    "\n",
    "Z = np.copy(X[1:4,2:5])\n",
    "\n",
    "create a copy of the slice using the copy as a method\n",
    "\n",
    "W = X[1:4,2:5].copy()\n"
   ]
  },
  {
   "cell_type": "markdown",
   "metadata": {},
   "source": [
    "### Boolean Indexing, Set Operations, and Sorting\n",
    "\n",
    "**Boolean Indexing**\n",
    "Allows us to select elements using logical arguments instead of explicit indices.\n",
    "\n",
    "X = np.arange(25).reshape(5, 5)\n",
    "\n",
    "print('The elements in X that are between 10 and 17:', X[(X > 10) & (X < 17)])\n",
    "\n",
    "We use Boolean indexing to assign the elements that are between 10 and 17 the value of -1\n",
    "\n",
    "X[(X > 10) & (X < 17)] = -1\n",
    "\n"
   ]
  },
  {
   "cell_type": "code",
   "execution_count": 4,
   "metadata": {
    "scrolled": true
   },
   "outputs": [
    {
     "name": "stdout",
     "output_type": "stream",
     "text": [
      "\n",
      "X = \n",
      " [[ 0  1  2  3  4]\n",
      " [ 5  6  7  8  9]\n",
      " [10 11 12 13 14]\n",
      " [15 16 17 18 19]\n",
      " [20 21 22 23 24]]\n",
      "\n",
      "The elements in X that are between 10 and 17: [11 12 13 14 15 16]\n",
      "\n",
      "X = \n",
      " [[ 0  1  2  3  4]\n",
      " [ 5  6  7  8  9]\n",
      " [10 -1 -1 -1 -1]\n",
      " [-1 -1 17 18 19]\n",
      " [20 21 22 23 24]]\n",
      "\n"
     ]
    }
   ],
   "source": [
    "X = np.arange(25).reshape(5, 5)\n",
    "print()\n",
    "print('X = \\n', X)\n",
    "print()\n",
    "\n",
    "print('The elements in X that are between 10 and 17:', X[(X > 10) & (X < 17)])\n",
    "\n",
    "X[(X > 10) & (X < 17)] = -1\n",
    "print()\n",
    "print('X = \\n', X)\n",
    "print()\n"
   ]
  },
  {
   "cell_type": "markdown",
   "metadata": {},
   "source": [
    "### Set Operations\n",
    "\n",
    "**numpy.intersect1d(ar1, ar2, assume_unique=False, return_indices=False)**\n",
    "\n",
    "    Find the intersection of two arrays.\n",
    "\n",
    "    Return the sorted, unique values that are in both of the input arrays.\n",
    "\n",
    "**numpy.setdiff1d(ar1, ar2, assume_unique=False)**\n",
    "\n",
    "    Find the set difference of two arrays.\n",
    "\n",
    "    Return the unique values in ar1 that are not in ar2.\n",
    "\n",
    "**numpy.union1d(ar1, ar2)**\n",
    "\n",
    "    Find the union of two arrays.\n",
    "\n",
    "    Return the unique, sorted array of values that are in either of the two input arrays.\n"
   ]
  },
  {
   "cell_type": "code",
   "execution_count": 11,
   "metadata": {},
   "outputs": [
    {
     "name": "stdout",
     "output_type": "stream",
     "text": [
      "\n",
      "x =  [1 2 3 4 5]\n",
      "\n",
      "y =  [6 7 2 8 4]\n",
      "\n",
      "The elements that are both in x and y:: np.intersect1d(x,y): [2 4]\n",
      "The elements that are in x that are not in y:: np.setdiff1d(x,y): [1 3 5]\n",
      "All the elements of x and y:: np.union1d(x,y): [1 2 3 4 5 6 7 8]\n"
     ]
    }
   ],
   "source": [
    "# We create a rank 1 ndarray\n",
    "x = np.array([1,2,3,4,5])\n",
    "\n",
    "# We create a rank 1 ndarray\n",
    "y = np.array([6,7,2,8,4])\n",
    "\n",
    "# We print x\n",
    "print()\n",
    "print('x = ', x)\n",
    "\n",
    "# We print y\n",
    "print()\n",
    "print('y = ', y)\n",
    "\n",
    "# We use set operations to compare x and y:\n",
    "print()\n",
    "print('The elements that are both in x and y:: np.intersect1d(x,y):', np.intersect1d(x,y))\n",
    "print('The elements that are in x that are not in y:: np.setdiff1d(x,y):', np.setdiff1d(x,y))\n",
    "print('All the elements of x and y:: np.union1d(x,y):',np.union1d(x,y))"
   ]
  },
  {
   "cell_type": "code",
   "execution_count": 15,
   "metadata": {},
   "outputs": [
    {
     "name": "stdout",
     "output_type": "stream",
     "text": [
      "\n",
      "X =  [[ 1  2  3  4  5]\n",
      " [ 6  7  8  9 10]\n",
      " [11 12 13 14 15]\n",
      " [16 17 18 19 20]\n",
      " [21 22 23 24 25]]\n",
      "\n",
      "Y =  [ 1  3  5  7  9 11 13 15 17 19 21 23 25]\n"
     ]
    }
   ],
   "source": [
    "# Create a 5 x 5 ndarray with consecutive integers from 1 to 25 (inclusive).\n",
    "# Afterwards use Boolean indexing to pick out only the odd numbers in the array\n",
    "\n",
    "# Create a 5 x 5 ndarray with consecutive integers from 1 to 25 (inclusive).\n",
    "X = np.arange(1, 26, 1).reshape(5, 5)\n",
    "print()\n",
    "print('X = ', X)\n",
    "\n",
    "# Use Boolean indexing to pick out only the odd numbers in the array\n",
    "Y = X[X % 2 == 1]\n",
    "print()\n",
    "print('Y = ', Y)\n"
   ]
  },
  {
   "cell_type": "code",
   "execution_count": null,
   "metadata": {},
   "outputs": [],
   "source": []
  }
 ],
 "metadata": {
  "kernelspec": {
   "display_name": "Python 3",
   "language": "python",
   "name": "python3"
  },
  "language_info": {
   "codemirror_mode": {
    "name": "ipython",
    "version": 3
   },
   "file_extension": ".py",
   "mimetype": "text/x-python",
   "name": "python",
   "nbconvert_exporter": "python",
   "pygments_lexer": "ipython3",
   "version": "3.7.7"
  }
 },
 "nbformat": 4,
 "nbformat_minor": 4
}
